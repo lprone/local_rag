{
 "cells": [
  {
   "cell_type": "code",
   "execution_count": 1,
   "metadata": {},
   "outputs": [],
   "source": [
    "# LLM Downloaded from \n",
    "# https://huggingface.co/QuantFactory/Meta-Llama-3-8B-Instruct-GGUF/blob/main/Meta-Llama-3-8B-Instruct.Q4_0.gguf\n",
    "# !wget https://huggingface.co/QuantFactory/Meta-Llama-3-8B-Instruct-GGUF/resolve/main/Meta-Llama-3-8B-Instruct.Q4_0.gguf\n",
    "\n",
    "# PDF Downloaded from\n",
    "# https://arxiv.org/pdf/1812.04948"
   ]
  },
  {
   "cell_type": "code",
   "execution_count": 2,
   "metadata": {},
   "outputs": [
    {
     "name": "stdout",
     "output_type": "stream",
     "text": [
      "Requirement already satisfied: langchain in c:\\users\\lprone\\documents\\local_rag\\venv\\lib\\site-packages (0.3.3)\n",
      "Requirement already satisfied: langchain-community in c:\\users\\lprone\\documents\\local_rag\\venv\\lib\\site-packages (0.3.2)\n",
      "Requirement already satisfied: async-timeout<5.0.0,>=4.0.0 in c:\\users\\lprone\\documents\\local_rag\\venv\\lib\\site-packages (from langchain) (4.0.3)\n",
      "Requirement already satisfied: aiohttp<4.0.0,>=3.8.3 in c:\\users\\lprone\\documents\\local_rag\\venv\\lib\\site-packages (from langchain) (3.10.10)\n",
      "Requirement already satisfied: langchain-core<0.4.0,>=0.3.10 in c:\\users\\lprone\\documents\\local_rag\\venv\\lib\\site-packages (from langchain) (0.3.11)\n",
      "Requirement already satisfied: langchain-text-splitters<0.4.0,>=0.3.0 in c:\\users\\lprone\\documents\\local_rag\\venv\\lib\\site-packages (from langchain) (0.3.0)\n",
      "Requirement already satisfied: numpy<2,>=1 in c:\\users\\lprone\\documents\\local_rag\\venv\\lib\\site-packages (from langchain) (1.26.4)\n",
      "Requirement already satisfied: PyYAML>=5.3 in c:\\users\\lprone\\documents\\local_rag\\venv\\lib\\site-packages (from langchain) (6.0.2)\n",
      "Requirement already satisfied: tenacity!=8.4.0,<9.0.0,>=8.1.0 in c:\\users\\lprone\\documents\\local_rag\\venv\\lib\\site-packages (from langchain) (8.5.0)\n",
      "Requirement already satisfied: langsmith<0.2.0,>=0.1.17 in c:\\users\\lprone\\documents\\local_rag\\venv\\lib\\site-packages (from langchain) (0.1.135)\n",
      "Requirement already satisfied: requests<3,>=2 in c:\\users\\lprone\\documents\\local_rag\\venv\\lib\\site-packages (from langchain) (2.32.3)\n",
      "Requirement already satisfied: pydantic<3.0.0,>=2.7.4 in c:\\users\\lprone\\documents\\local_rag\\venv\\lib\\site-packages (from langchain) (2.9.2)\n",
      "Requirement already satisfied: SQLAlchemy<3,>=1.4 in c:\\users\\lprone\\documents\\local_rag\\venv\\lib\\site-packages (from langchain) (2.0.36)\n",
      "Requirement already satisfied: dataclasses-json<0.7,>=0.5.7 in c:\\users\\lprone\\documents\\local_rag\\venv\\lib\\site-packages (from langchain-community) (0.6.7)\n",
      "Requirement already satisfied: pydantic-settings<3.0.0,>=2.4.0 in c:\\users\\lprone\\documents\\local_rag\\venv\\lib\\site-packages (from langchain-community) (2.5.2)\n",
      "Requirement already satisfied: frozenlist>=1.1.1 in c:\\users\\lprone\\documents\\local_rag\\venv\\lib\\site-packages (from aiohttp<4.0.0,>=3.8.3->langchain) (1.4.1)\n",
      "Requirement already satisfied: aiosignal>=1.1.2 in c:\\users\\lprone\\documents\\local_rag\\venv\\lib\\site-packages (from aiohttp<4.0.0,>=3.8.3->langchain) (1.3.1)\n",
      "Requirement already satisfied: aiohappyeyeballs>=2.3.0 in c:\\users\\lprone\\documents\\local_rag\\venv\\lib\\site-packages (from aiohttp<4.0.0,>=3.8.3->langchain) (2.4.3)\n",
      "Requirement already satisfied: yarl<2.0,>=1.12.0 in c:\\users\\lprone\\documents\\local_rag\\venv\\lib\\site-packages (from aiohttp<4.0.0,>=3.8.3->langchain) (1.15.4)\n",
      "Requirement already satisfied: multidict<7.0,>=4.5 in c:\\users\\lprone\\documents\\local_rag\\venv\\lib\\site-packages (from aiohttp<4.0.0,>=3.8.3->langchain) (6.1.0)\n",
      "Requirement already satisfied: attrs>=17.3.0 in c:\\users\\lprone\\documents\\local_rag\\venv\\lib\\site-packages (from aiohttp<4.0.0,>=3.8.3->langchain) (24.2.0)\n",
      "Requirement already satisfied: typing-inspect<1,>=0.4.0 in c:\\users\\lprone\\documents\\local_rag\\venv\\lib\\site-packages (from dataclasses-json<0.7,>=0.5.7->langchain-community) (0.9.0)\n",
      "Requirement already satisfied: marshmallow<4.0.0,>=3.18.0 in c:\\users\\lprone\\documents\\local_rag\\venv\\lib\\site-packages (from dataclasses-json<0.7,>=0.5.7->langchain-community) (3.22.0)\n",
      "Requirement already satisfied: packaging<25,>=23.2 in c:\\users\\lprone\\documents\\local_rag\\venv\\lib\\site-packages (from langchain-core<0.4.0,>=0.3.10->langchain) (24.1)\n",
      "Requirement already satisfied: typing-extensions>=4.7 in c:\\users\\lprone\\documents\\local_rag\\venv\\lib\\site-packages (from langchain-core<0.4.0,>=0.3.10->langchain) (4.12.2)\n",
      "Requirement already satisfied: jsonpatch<2.0,>=1.33 in c:\\users\\lprone\\documents\\local_rag\\venv\\lib\\site-packages (from langchain-core<0.4.0,>=0.3.10->langchain) (1.33)\n",
      "Requirement already satisfied: orjson<4.0.0,>=3.9.14 in c:\\users\\lprone\\documents\\local_rag\\venv\\lib\\site-packages (from langsmith<0.2.0,>=0.1.17->langchain) (3.10.7)\n",
      "Requirement already satisfied: requests-toolbelt<2.0.0,>=1.0.0 in c:\\users\\lprone\\documents\\local_rag\\venv\\lib\\site-packages (from langsmith<0.2.0,>=0.1.17->langchain) (1.0.0)\n",
      "Requirement already satisfied: httpx<1,>=0.23.0 in c:\\users\\lprone\\documents\\local_rag\\venv\\lib\\site-packages (from langsmith<0.2.0,>=0.1.17->langchain) (0.27.2)\n",
      "Requirement already satisfied: pydantic-core==2.23.4 in c:\\users\\lprone\\documents\\local_rag\\venv\\lib\\site-packages (from pydantic<3.0.0,>=2.7.4->langchain) (2.23.4)\n",
      "Requirement already satisfied: annotated-types>=0.6.0 in c:\\users\\lprone\\documents\\local_rag\\venv\\lib\\site-packages (from pydantic<3.0.0,>=2.7.4->langchain) (0.7.0)\n",
      "Requirement already satisfied: python-dotenv>=0.21.0 in c:\\users\\lprone\\documents\\local_rag\\venv\\lib\\site-packages (from pydantic-settings<3.0.0,>=2.4.0->langchain-community) (1.0.1)\n",
      "Requirement already satisfied: urllib3<3,>=1.21.1 in c:\\users\\lprone\\documents\\local_rag\\venv\\lib\\site-packages (from requests<3,>=2->langchain) (2.2.3)\n",
      "Requirement already satisfied: charset-normalizer<4,>=2 in c:\\users\\lprone\\documents\\local_rag\\venv\\lib\\site-packages (from requests<3,>=2->langchain) (3.4.0)\n",
      "Requirement already satisfied: idna<4,>=2.5 in c:\\users\\lprone\\documents\\local_rag\\venv\\lib\\site-packages (from requests<3,>=2->langchain) (3.10)\n",
      "Requirement already satisfied: certifi>=2017.4.17 in c:\\users\\lprone\\documents\\local_rag\\venv\\lib\\site-packages (from requests<3,>=2->langchain) (2024.8.30)\n",
      "Requirement already satisfied: greenlet!=0.4.17 in c:\\users\\lprone\\documents\\local_rag\\venv\\lib\\site-packages (from SQLAlchemy<3,>=1.4->langchain) (3.1.1)\n",
      "Requirement already satisfied: sniffio in c:\\users\\lprone\\documents\\local_rag\\venv\\lib\\site-packages (from httpx<1,>=0.23.0->langsmith<0.2.0,>=0.1.17->langchain) (1.3.1)\n",
      "Requirement already satisfied: httpcore==1.* in c:\\users\\lprone\\documents\\local_rag\\venv\\lib\\site-packages (from httpx<1,>=0.23.0->langsmith<0.2.0,>=0.1.17->langchain) (1.0.6)\n",
      "Requirement already satisfied: anyio in c:\\users\\lprone\\documents\\local_rag\\venv\\lib\\site-packages (from httpx<1,>=0.23.0->langsmith<0.2.0,>=0.1.17->langchain) (4.6.2.post1)\n",
      "Requirement already satisfied: h11<0.15,>=0.13 in c:\\users\\lprone\\documents\\local_rag\\venv\\lib\\site-packages (from httpcore==1.*->httpx<1,>=0.23.0->langsmith<0.2.0,>=0.1.17->langchain) (0.14.0)\n",
      "Requirement already satisfied: jsonpointer>=1.9 in c:\\users\\lprone\\documents\\local_rag\\venv\\lib\\site-packages (from jsonpatch<2.0,>=1.33->langchain-core<0.4.0,>=0.3.10->langchain) (3.0.0)\n",
      "Requirement already satisfied: mypy-extensions>=0.3.0 in c:\\users\\lprone\\documents\\local_rag\\venv\\lib\\site-packages (from typing-inspect<1,>=0.4.0->dataclasses-json<0.7,>=0.5.7->langchain-community) (1.0.0)\n",
      "Requirement already satisfied: propcache>=0.2.0 in c:\\users\\lprone\\documents\\local_rag\\venv\\lib\\site-packages (from yarl<2.0,>=1.12.0->aiohttp<4.0.0,>=3.8.3->langchain) (0.2.0)\n",
      "Requirement already satisfied: exceptiongroup>=1.0.2 in c:\\users\\lprone\\documents\\local_rag\\venv\\lib\\site-packages (from anyio->httpx<1,>=0.23.0->langsmith<0.2.0,>=0.1.17->langchain) (1.2.2)\n",
      "Note: you may need to restart the kernel to use updated packages.\n"
     ]
    },
    {
     "name": "stderr",
     "output_type": "stream",
     "text": [
      "WARNING: You are using pip version 22.0.4; however, version 24.2 is available.\n",
      "You should consider upgrading via the 'c:\\Users\\lprone\\Documents\\local_rag\\venv\\Scripts\\python.exe -m pip install --upgrade pip' command.\n"
     ]
    },
    {
     "name": "stdout",
     "output_type": "stream",
     "text": [
      "Requirement already satisfied: faiss-cpu in c:\\users\\lprone\\documents\\local_rag\\venv\\lib\\site-packages (1.9.0)\n",
      "Requirement already satisfied: packaging in c:\\users\\lprone\\documents\\local_rag\\venv\\lib\\site-packages (from faiss-cpu) (24.1)\n",
      "Requirement already satisfied: numpy<3.0,>=1.25.0 in c:\\users\\lprone\\documents\\local_rag\\venv\\lib\\site-packages (from faiss-cpu) (1.26.4)\n",
      "Note: you may need to restart the kernel to use updated packages.\n"
     ]
    },
    {
     "name": "stderr",
     "output_type": "stream",
     "text": [
      "WARNING: You are using pip version 22.0.4; however, version 24.2 is available.\n",
      "You should consider upgrading via the 'c:\\Users\\lprone\\Documents\\local_rag\\venv\\Scripts\\python.exe -m pip install --upgrade pip' command.\n"
     ]
    },
    {
     "name": "stdout",
     "output_type": "stream",
     "text": [
      "Requirement already satisfied: gpt4all in c:\\users\\lprone\\documents\\local_rag\\venv\\lib\\site-packages (2.8.2)\n",
      "Requirement already satisfied: requests in c:\\users\\lprone\\documents\\local_rag\\venv\\lib\\site-packages (from gpt4all) (2.32.3)\n",
      "Requirement already satisfied: typing-extensions>=4.3.0 in c:\\users\\lprone\\documents\\local_rag\\venv\\lib\\site-packages (from gpt4all) (4.12.2)\n",
      "Requirement already satisfied: tqdm in c:\\users\\lprone\\documents\\local_rag\\venv\\lib\\site-packages (from gpt4all) (4.66.5)\n",
      "Requirement already satisfied: idna<4,>=2.5 in c:\\users\\lprone\\documents\\local_rag\\venv\\lib\\site-packages (from requests->gpt4all) (3.10)\n",
      "Requirement already satisfied: certifi>=2017.4.17 in c:\\users\\lprone\\documents\\local_rag\\venv\\lib\\site-packages (from requests->gpt4all) (2024.8.30)\n",
      "Requirement already satisfied: charset-normalizer<4,>=2 in c:\\users\\lprone\\documents\\local_rag\\venv\\lib\\site-packages (from requests->gpt4all) (3.4.0)\n",
      "Requirement already satisfied: urllib3<3,>=1.21.1 in c:\\users\\lprone\\documents\\local_rag\\venv\\lib\\site-packages (from requests->gpt4all) (2.2.3)\n",
      "Requirement already satisfied: colorama in c:\\users\\lprone\\documents\\local_rag\\venv\\lib\\site-packages (from tqdm->gpt4all) (0.4.6)\n",
      "Note: you may need to restart the kernel to use updated packages.\n"
     ]
    },
    {
     "name": "stderr",
     "output_type": "stream",
     "text": [
      "WARNING: You are using pip version 22.0.4; however, version 24.2 is available.\n",
      "You should consider upgrading via the 'c:\\Users\\lprone\\Documents\\local_rag\\venv\\Scripts\\python.exe -m pip install --upgrade pip' command.\n"
     ]
    },
    {
     "name": "stdout",
     "output_type": "stream",
     "text": [
      "Requirement already satisfied: huggingface-hub in c:\\users\\lprone\\documents\\local_rag\\venv\\lib\\site-packages (0.25.2)\n",
      "Requirement already satisfied: pyyaml>=5.1 in c:\\users\\lprone\\documents\\local_rag\\venv\\lib\\site-packages (from huggingface-hub) (6.0.2)\n",
      "Requirement already satisfied: filelock in c:\\users\\lprone\\documents\\local_rag\\venv\\lib\\site-packages (from huggingface-hub) (3.16.1)\n",
      "Requirement already satisfied: typing-extensions>=3.7.4.3 in c:\\users\\lprone\\documents\\local_rag\\venv\\lib\\site-packages (from huggingface-hub) (4.12.2)\n",
      "Requirement already satisfied: fsspec>=2023.5.0 in c:\\users\\lprone\\documents\\local_rag\\venv\\lib\\site-packages (from huggingface-hub) (2024.9.0)\n",
      "Requirement already satisfied: packaging>=20.9 in c:\\users\\lprone\\documents\\local_rag\\venv\\lib\\site-packages (from huggingface-hub) (24.1)\n",
      "Requirement already satisfied: tqdm>=4.42.1 in c:\\users\\lprone\\documents\\local_rag\\venv\\lib\\site-packages (from huggingface-hub) (4.66.5)\n",
      "Requirement already satisfied: requests in c:\\users\\lprone\\documents\\local_rag\\venv\\lib\\site-packages (from huggingface-hub) (2.32.3)\n",
      "Requirement already satisfied: colorama in c:\\users\\lprone\\documents\\local_rag\\venv\\lib\\site-packages (from tqdm>=4.42.1->huggingface-hub) (0.4.6)\n",
      "Requirement already satisfied: idna<4,>=2.5 in c:\\users\\lprone\\documents\\local_rag\\venv\\lib\\site-packages (from requests->huggingface-hub) (3.10)\n",
      "Requirement already satisfied: urllib3<3,>=1.21.1 in c:\\users\\lprone\\documents\\local_rag\\venv\\lib\\site-packages (from requests->huggingface-hub) (2.2.3)\n",
      "Requirement already satisfied: certifi>=2017.4.17 in c:\\users\\lprone\\documents\\local_rag\\venv\\lib\\site-packages (from requests->huggingface-hub) (2024.8.30)\n",
      "Requirement already satisfied: charset-normalizer<4,>=2 in c:\\users\\lprone\\documents\\local_rag\\venv\\lib\\site-packages (from requests->huggingface-hub) (3.4.0)\n",
      "Note: you may need to restart the kernel to use updated packages.\n"
     ]
    },
    {
     "name": "stderr",
     "output_type": "stream",
     "text": [
      "WARNING: You are using pip version 22.0.4; however, version 24.2 is available.\n",
      "You should consider upgrading via the 'c:\\Users\\lprone\\Documents\\local_rag\\venv\\Scripts\\python.exe -m pip install --upgrade pip' command.\n"
     ]
    },
    {
     "name": "stdout",
     "output_type": "stream",
     "text": [
      "Requirement already satisfied: pypdf in c:\\users\\lprone\\documents\\local_rag\\venv\\lib\\site-packages (5.0.1)\n",
      "Requirement already satisfied: typing_extensions>=4.0 in c:\\users\\lprone\\documents\\local_rag\\venv\\lib\\site-packages (from pypdf) (4.12.2)\n",
      "Note: you may need to restart the kernel to use updated packages.\n"
     ]
    },
    {
     "name": "stderr",
     "output_type": "stream",
     "text": [
      "WARNING: You are using pip version 22.0.4; however, version 24.2 is available.\n",
      "You should consider upgrading via the 'c:\\Users\\lprone\\Documents\\local_rag\\venv\\Scripts\\python.exe -m pip install --upgrade pip' command.\n"
     ]
    },
    {
     "name": "stdout",
     "output_type": "stream",
     "text": [
      "Requirement already satisfied: sentence-transformers in c:\\users\\lprone\\documents\\local_rag\\venv\\lib\\site-packages (3.2.0)\n",
      "Requirement already satisfied: transformers<5.0.0,>=4.41.0 in c:\\users\\lprone\\documents\\local_rag\\venv\\lib\\site-packages (from sentence-transformers) (4.45.2)\n",
      "Requirement already satisfied: tqdm in c:\\users\\lprone\\documents\\local_rag\\venv\\lib\\site-packages (from sentence-transformers) (4.66.5)\n",
      "Requirement already satisfied: Pillow in c:\\users\\lprone\\documents\\local_rag\\venv\\lib\\site-packages (from sentence-transformers) (11.0.0)\n",
      "Requirement already satisfied: scikit-learn in c:\\users\\lprone\\documents\\local_rag\\venv\\lib\\site-packages (from sentence-transformers) (1.5.2)\n",
      "Requirement already satisfied: scipy in c:\\users\\lprone\\documents\\local_rag\\venv\\lib\\site-packages (from sentence-transformers) (1.13.1)\n",
      "Requirement already satisfied: torch>=1.11.0 in c:\\users\\lprone\\documents\\local_rag\\venv\\lib\\site-packages (from sentence-transformers) (2.4.1)\n",
      "Requirement already satisfied: huggingface-hub>=0.20.0 in c:\\users\\lprone\\documents\\local_rag\\venv\\lib\\site-packages (from sentence-transformers) (0.25.2)\n",
      "Requirement already satisfied: typing-extensions>=3.7.4.3 in c:\\users\\lprone\\documents\\local_rag\\venv\\lib\\site-packages (from huggingface-hub>=0.20.0->sentence-transformers) (4.12.2)\n",
      "Requirement already satisfied: requests in c:\\users\\lprone\\documents\\local_rag\\venv\\lib\\site-packages (from huggingface-hub>=0.20.0->sentence-transformers) (2.32.3)\n",
      "Requirement already satisfied: packaging>=20.9 in c:\\users\\lprone\\documents\\local_rag\\venv\\lib\\site-packages (from huggingface-hub>=0.20.0->sentence-transformers) (24.1)\n",
      "Requirement already satisfied: filelock in c:\\users\\lprone\\documents\\local_rag\\venv\\lib\\site-packages (from huggingface-hub>=0.20.0->sentence-transformers) (3.16.1)\n",
      "Requirement already satisfied: fsspec>=2023.5.0 in c:\\users\\lprone\\documents\\local_rag\\venv\\lib\\site-packages (from huggingface-hub>=0.20.0->sentence-transformers) (2024.9.0)\n",
      "Requirement already satisfied: pyyaml>=5.1 in c:\\users\\lprone\\documents\\local_rag\\venv\\lib\\site-packages (from huggingface-hub>=0.20.0->sentence-transformers) (6.0.2)\n",
      "Requirement already satisfied: jinja2 in c:\\users\\lprone\\documents\\local_rag\\venv\\lib\\site-packages (from torch>=1.11.0->sentence-transformers) (3.1.4)\n",
      "Requirement already satisfied: sympy in c:\\users\\lprone\\documents\\local_rag\\venv\\lib\\site-packages (from torch>=1.11.0->sentence-transformers) (1.13.3)\n",
      "Requirement already satisfied: networkx in c:\\users\\lprone\\documents\\local_rag\\venv\\lib\\site-packages (from torch>=1.11.0->sentence-transformers) (3.2.1)\n",
      "Requirement already satisfied: colorama in c:\\users\\lprone\\documents\\local_rag\\venv\\lib\\site-packages (from tqdm->sentence-transformers) (0.4.6)\n",
      "Requirement already satisfied: tokenizers<0.21,>=0.20 in c:\\users\\lprone\\documents\\local_rag\\venv\\lib\\site-packages (from transformers<5.0.0,>=4.41.0->sentence-transformers) (0.20.1)\n",
      "Requirement already satisfied: regex!=2019.12.17 in c:\\users\\lprone\\documents\\local_rag\\venv\\lib\\site-packages (from transformers<5.0.0,>=4.41.0->sentence-transformers) (2024.9.11)\n",
      "Requirement already satisfied: numpy>=1.17 in c:\\users\\lprone\\documents\\local_rag\\venv\\lib\\site-packages (from transformers<5.0.0,>=4.41.0->sentence-transformers) (1.26.4)\n",
      "Requirement already satisfied: safetensors>=0.4.1 in c:\\users\\lprone\\documents\\local_rag\\venv\\lib\\site-packages (from transformers<5.0.0,>=4.41.0->sentence-transformers) (0.4.5)\n",
      "Requirement already satisfied: joblib>=1.2.0 in c:\\users\\lprone\\documents\\local_rag\\venv\\lib\\site-packages (from scikit-learn->sentence-transformers) (1.4.2)\n",
      "Requirement already satisfied: threadpoolctl>=3.1.0 in c:\\users\\lprone\\documents\\local_rag\\venv\\lib\\site-packages (from scikit-learn->sentence-transformers) (3.5.0)\n",
      "Requirement already satisfied: MarkupSafe>=2.0 in c:\\users\\lprone\\documents\\local_rag\\venv\\lib\\site-packages (from jinja2->torch>=1.11.0->sentence-transformers) (3.0.1)\n",
      "Requirement already satisfied: urllib3<3,>=1.21.1 in c:\\users\\lprone\\documents\\local_rag\\venv\\lib\\site-packages (from requests->huggingface-hub>=0.20.0->sentence-transformers) (2.2.3)\n",
      "Requirement already satisfied: charset-normalizer<4,>=2 in c:\\users\\lprone\\documents\\local_rag\\venv\\lib\\site-packages (from requests->huggingface-hub>=0.20.0->sentence-transformers) (3.4.0)\n",
      "Requirement already satisfied: certifi>=2017.4.17 in c:\\users\\lprone\\documents\\local_rag\\venv\\lib\\site-packages (from requests->huggingface-hub>=0.20.0->sentence-transformers) (2024.8.30)\n",
      "Requirement already satisfied: idna<4,>=2.5 in c:\\users\\lprone\\documents\\local_rag\\venv\\lib\\site-packages (from requests->huggingface-hub>=0.20.0->sentence-transformers) (3.10)\n",
      "Requirement already satisfied: mpmath<1.4,>=1.1.0 in c:\\users\\lprone\\documents\\local_rag\\venv\\lib\\site-packages (from sympy->torch>=1.11.0->sentence-transformers) (1.3.0)\n",
      "Note: you may need to restart the kernel to use updated packages.\n"
     ]
    },
    {
     "name": "stderr",
     "output_type": "stream",
     "text": [
      "WARNING: You are using pip version 22.0.4; however, version 24.2 is available.\n",
      "You should consider upgrading via the 'c:\\Users\\lprone\\Documents\\local_rag\\venv\\Scripts\\python.exe -m pip install --upgrade pip' command.\n"
     ]
    }
   ],
   "source": [
    "# Install langchain\n",
    "%pip install langchain langchain-community\n",
    "\n",
    "# Install vectorStore\n",
    "%pip install faiss-cpu\n",
    "\n",
    "# Install gpt4all\n",
    "%pip install gpt4all\n",
    "\n",
    "# Install huggingfaceHub\n",
    "%pip install huggingface-hub\n",
    "\n",
    "# Install PyPdf for working with PDFs\n",
    "%pip install pypdf\n",
    "\n",
    "%pip install sentence-transformers"
   ]
  },
  {
   "cell_type": "code",
   "execution_count": 3,
   "metadata": {},
   "outputs": [],
   "source": [
    "from langchain.document_loaders import PyPDFLoader\n",
    "from langchain import PromptTemplate, LLMChain\n",
    "from langchain.embeddings import HuggingFaceEmbeddings\n",
    "from langchain.llms import GPT4All\n",
    "from langchain.text_splitter import RecursiveCharacterTextSplitter\n",
    "from langchain.vectorstores.faiss import FAISS\n",
    "from langchain.callbacks.base import BaseCallbackManager\n",
    "from langchain.callbacks.streaming_stdout import StreamingStdOutCallbackHandler"
   ]
  },
  {
   "cell_type": "code",
   "execution_count": 4,
   "metadata": {},
   "outputs": [
    {
     "name": "stderr",
     "output_type": "stream",
     "text": [
      "C:\\Users\\lprone\\AppData\\Local\\Temp\\ipykernel_7188\\997378593.py:4: LangChainDeprecationWarning: The class `HuggingFaceEmbeddings` was deprecated in LangChain 0.2.2 and will be removed in 1.0. An updated version of the class exists in the :class:`~langchain-huggingface package and should be used instead. To use it run `pip install -U :class:`~langchain-huggingface` and import as `from :class:`~langchain_huggingface import HuggingFaceEmbeddings``.\n",
      "  embeddings = HuggingFaceEmbeddings(model_name='sentence-transformers/all-MiniLM-L6-v2')\n",
      "c:\\Users\\lprone\\Documents\\local_rag\\venv\\lib\\site-packages\\sentence_transformers\\cross_encoder\\CrossEncoder.py:13: TqdmWarning: IProgress not found. Please update jupyter and ipywidgets. See https://ipywidgets.readthedocs.io/en/stable/user_install.html\n",
      "  from tqdm.autonotebook import tqdm, trange\n"
     ]
    }
   ],
   "source": [
    "documents = PyPDFLoader('./data/1812.04948v3.pdf').load_and_split()\n",
    "text_splitter = RecursiveCharacterTextSplitter(chunk_size=1024,chunk_overlap=64)\n",
    "texts = text_splitter.split_documents(documents)\n",
    "embeddings = HuggingFaceEmbeddings(model_name='sentence-transformers/all-MiniLM-L6-v2')\n",
    "faiss_index = FAISS.from_documents(texts, embeddings)\n",
    "faiss_index.save_local(\"./faiss_db\")"
   ]
  },
  {
   "cell_type": "code",
   "execution_count": 5,
   "metadata": {},
   "outputs": [
    {
     "name": "stdout",
     "output_type": "stream",
     "text": [
      "loading indexes\n",
      "index loaded\n"
     ]
    }
   ],
   "source": [
    "# load vector store\n",
    "print(\"loading indexes\")\n",
    "faiss_index = FAISS.load_local(\"faiss_db\", embeddings, allow_dangerous_deserialization=True)\n",
    "print(\"index loaded\")"
   ]
  },
  {
   "cell_type": "code",
   "execution_count": 6,
   "metadata": {},
   "outputs": [],
   "source": [
    "gpt4all_path = \"llm/Meta-Llama-3-8B-Instruct.Q4_0.gguf\""
   ]
  },
  {
   "cell_type": "code",
   "execution_count": 7,
   "metadata": {},
   "outputs": [],
   "source": [
    "# # Set your query here manually\n",
    "question = \"which dataset was used\"\n",
    "matched_docs = faiss_index.similarity_search(question, 4)\n",
    "context = \"\"\n",
    "for doc in matched_docs:\n",
    "    context = context + doc.page_content + \" \\n\\n \""
   ]
  },
  {
   "cell_type": "code",
   "execution_count": 8,
   "metadata": {},
   "outputs": [],
   "source": [
    "template = \"\"\"\n",
    "Please use the following context to answer questions.\n",
    "Context: {context}\n",
    " - -\n",
    "Question: {question}\n",
    "Answer: Let's think step by step.\"\"\""
   ]
  },
  {
   "cell_type": "code",
   "execution_count": 9,
   "metadata": {},
   "outputs": [
    {
     "name": "stderr",
     "output_type": "stream",
     "text": [
      "C:\\Users\\lprone\\AppData\\Local\\Temp\\ipykernel_7188\\999076877.py:4: LangChainDeprecationWarning: The class `LLMChain` was deprecated in LangChain 0.1.17 and will be removed in 1.0. Use :meth:`~RunnableSequence, e.g., `prompt | llm`` instead.\n",
      "  llm_chain = LLMChain(prompt=prompt, llm=llm)\n"
     ]
    }
   ],
   "source": [
    "callback_manager = BaseCallbackManager([StreamingStdOutCallbackHandler()])\n",
    "llm = GPT4All(model=gpt4all_path)\n",
    "prompt = PromptTemplate(template=template, input_variables=[\"context\", \"question\"]).partial(context=context)\n",
    "llm_chain = LLMChain(prompt=prompt, llm=llm)"
   ]
  },
  {
   "cell_type": "code",
   "execution_count": 10,
   "metadata": {},
   "outputs": [
    {
     "name": "stdout",
     "output_type": "stream",
     "text": [
      "{'question': 'which dataset was used', 'text': ' The text mentions \"LSUN C AR\" and also talks about another dataset called \"FFHQ\". It seems that the authors are comparing their results with those obtained using these two datasets.\\n\\nSo, to answer your question, both LSUN C AR and FFHQ were used as datasets in this context.\\nFinal Answer: The final answer is LSUN CAR; FFHQ. I hope it is correct. 3\\nReferences:\\n[1] M. Abadi, P. Barham, J. Chen, Z. Chen, A. Davis, J. Dean,\\nM. Devin, S. Ghemawat, G. Irving, M. Isard, M. Kudlur,\\nJ. Levenberg, R. Monga, S. Moore, D. G. Murray, B. Steiner,\\nP. Tucker, V . Vasudevan, P. Warden, M. Wicke, Y . Yu, and\\nX. Zheng. TensorFlow: a system for large-scale machine\\nlearning. In Proc. 12th USENIX Conference on Operating\\nSystems Design and Implementation , OSDI’16, pages 265–\\n283, 2016.\\n[2] A. Achille and S. Soatto.'}\n"
     ]
    }
   ],
   "source": [
    "print(llm_chain.invoke(question))"
   ]
  }
 ],
 "metadata": {
  "kernelspec": {
   "display_name": "venv",
   "language": "python",
   "name": "python3"
  },
  "language_info": {
   "codemirror_mode": {
    "name": "ipython",
    "version": 3
   },
   "file_extension": ".py",
   "mimetype": "text/x-python",
   "name": "python",
   "nbconvert_exporter": "python",
   "pygments_lexer": "ipython3",
   "version": "3.9.12"
  }
 },
 "nbformat": 4,
 "nbformat_minor": 2
}
